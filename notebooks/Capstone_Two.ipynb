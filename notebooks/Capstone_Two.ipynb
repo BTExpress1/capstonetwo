version https://git-lfs.github.com/spec/v1
oid sha256:2e4e692d946095a0d5ae341ee8b2ff5cf9f69aaedf6c31f217f4b3b1ac2d5b01
size 2096996
