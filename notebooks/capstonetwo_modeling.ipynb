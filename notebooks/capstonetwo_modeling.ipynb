version https://git-lfs.github.com/spec/v1
oid sha256:cceeed1af45da94da925f04eb39e4e8b0749e15da3cc9a8c9265d8ae8aabb8df
size 986422
