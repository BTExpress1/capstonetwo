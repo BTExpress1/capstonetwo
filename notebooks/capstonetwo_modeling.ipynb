version https://git-lfs.github.com/spec/v1
oid sha256:c80c5342cd7aedabcf075df1893886a6fe7845c952eb4c7ee87e6c4d414b2abf
size 1011710
