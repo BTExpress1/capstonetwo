version https://git-lfs.github.com/spec/v1
oid sha256:f790a3c2bb148401aa03dd34ea9387d5045d2f273eb925c2cad8c8808d426aa4
size 1472915
