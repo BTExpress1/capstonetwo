version https://git-lfs.github.com/spec/v1
oid sha256:f5f9a04474c66434e8a5373ad0c0f4c2fa0955d40246233b3f377fc06f1ecc67
size 1244810
