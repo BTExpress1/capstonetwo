version https://git-lfs.github.com/spec/v1
oid sha256:ec994f30dcb9df4a011e3d3c3bee766e5f7eaf2282c2e0b089a5d160348f8b6b
size 3332575
