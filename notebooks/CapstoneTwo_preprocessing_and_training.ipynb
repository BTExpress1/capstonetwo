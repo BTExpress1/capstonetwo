version https://git-lfs.github.com/spec/v1
oid sha256:3b6d60cb0b55a5e9287d36369c9add967a739d3ec3e2c4a76d2ea3ef56a38198
size 636701
